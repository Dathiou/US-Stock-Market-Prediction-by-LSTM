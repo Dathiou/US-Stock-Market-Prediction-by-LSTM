{
 "cells": [
  {
   "cell_type": "code",
   "execution_count": 2,
   "metadata": {
    "collapsed": true
   },
   "outputs": [],
   "source": [
    "import os\n",
    "\n",
    "def enviorment_check(id):\n",
    "    dir = './history/'\n",
    "    if os.path.exists(dir) == False:\n",
    "        os.makedirs(dir)\n",
    "    save_folder = str(dir) + str(id) \n",
    "    os.makedirs(save_folder)\n",
    "    return (save_folder + '/')"
   ]
  },
  {
   "cell_type": "code",
   "execution_count": 3,
   "metadata": {
    "collapsed": false
   },
   "outputs": [],
   "source": [
    "# define get data function\n",
    "\n",
    "import pandas as pd\n",
    "import numpy as np\n",
    "import quandl\n",
    "\n",
    "def GetStockData_PriceVolume(paras):\n",
    "    '''\n",
    "    All data is from quandl wiki dataset\n",
    "    Feature set: [Open  High    Low  Close    Volume  Ex-Dividend  Split Ratio Adj. Open  Adj. High  Adj. Low  \n",
    "    Adj. Close  Adj. Volume]\n",
    "    '''\n",
    "    \n",
    "    # Prepare data frame\n",
    "    stkname = \"WIKI/\" + str(paras.ticker)\n",
    "    df = quandl.get(stkname, authtoken = '2c24stWyXfdzLVFWxGe4', start_date = paras.start_date, end_date = paras.end_date)\n",
    "    df = df[['Adj. Open',  'Adj. High',  'Adj. Low',  'Adj. Close', 'Adj. Volume']]\n",
    "    df = df.rename(columns = {\"Adj. Open\": \"open\", \"Adj. High\": \"high\", \"Adj. Low\": \"low\",\n",
    "                            \"Adj. Close\": \"close\", \"Adj. Volume\": \"volume\"})\n",
    "    df_all = df.copy()\n",
    "    df['MA'] = df['close'].rolling(window = paras.pred_len, center = False).mean()\n",
    "    \n",
    "    # Data frame output\n",
    "    if paras.out_class_type == 'regression':\n",
    "        if paras.out_type == 'MA':\n",
    "            df['label'] = df['MA'].shift(-1 * paras.pred_len)\n",
    "        else:\n",
    "            df['label'] = df['close'].shift(-1 * paras.pred_len)\n",
    "    else: # classification - FIXME\n",
    "        df['label'] = df['close'].shift(-1 * paras.pred_len)\n",
    "    \n",
    "    # Generate input features for time series data\n",
    "    featureset = list(['label'])\n",
    "    featuresDict = {'c':'close', 'h':'high', 'l':'low', 'o':'open', 'v':'volume'}\n",
    "    for i in range(paras.window_len, -1, -1):\n",
    "        for j in list(paras.features):\n",
    "            df[j+'_-'+str(i)+'_d'] = df[featuresDict[j]].shift(1*i)\n",
    "            featureset.append(j+'_-'+str(i)+'_d')\n",
    "    \n",
    "    df = df[featureset]\n",
    "    df_lately = df[-paras.pred_len:]\n",
    "    df.dropna(inplace = True)\n",
    "    df_known_lately = df[len(df) - paras.known_lately_len: len(df)]\n",
    "    df = df[0:len(df)-paras.known_lately_len]\n",
    "\n",
    "    if paras.debug_load_data == True:\n",
    "        pd.set_option('display.max_columns', None)\n",
    "        print (' %%%%%%%%%%%%%%% GetStockData PriceVolume Parameters Set %%%%%%%%%%%%%%% ')\n",
    "        print (paras)\n",
    "        print (' %%%%%%%%%%%%%%% GetStockData PriceVolume Feature Set %%%%%%%%%%%%%%% ')\n",
    "        print (featureset)\n",
    "        print (' %%%%%%%%%%%%%%% GetStockData PriceVolume df Statistic %%%%%%%%%%%%%%% ')\n",
    "        print (df.describe())\n",
    "        print (' %%%%%%%%%%%%%%% GetStockData PriceVolume df_known_lately Statistic %%%%%%%%%%%%%%% ')\n",
    "        print (df_known_lately.describe())\n",
    "        print (' %%%%%%%%%%%%%%% GetStockData PriceVolume df_lately Statistic %%%%%%%%%%%%%%% ')\n",
    "        print (df_lately.describe())\n",
    "    \n",
    "    return df, df_known_lately, df_lately, df_all\n",
    "    "
   ]
  },
  {
   "cell_type": "code",
   "execution_count": 4,
   "metadata": {
    "collapsed": false
   },
   "outputs": [],
   "source": [
    "# normalization/ preprocessing\n",
    "from sklearn import preprocessing\n",
    "\n",
    "def preprocessing_data_by_row(data, paras):\n",
    "    '''\n",
    "    data: N*M np.array\n",
    "    N: sample\n",
    "    M: features\n",
    "    data_T: M*N\n",
    "    data_T_scale: scaler for column by column, M*N\n",
    "    data_T_scale_T: N*M\n",
    "    '''\n",
    "    if data.size == 0:\n",
    "        return data, None\n",
    "    \n",
    "    data_T = data.transpose()\n",
    "    if paras.preproc_scaler == 'standard_scaler':\n",
    "        scaler = preprocessing.StandardScaler().fit(data_T)\n",
    "    else: #FIXME\n",
    "        scaler = preprocessing.StandardScaler().fit(data_T)\n",
    "    data_T_scale = scaler.transform(data_T)\n",
    "    data_T_scale_T = data_T_scale.transpose()\n",
    "    return data_T_scale_T, scaler"
   ]
  },
  {
   "cell_type": "code",
   "execution_count": 5,
   "metadata": {
    "collapsed": true
   },
   "outputs": [],
   "source": [
    "def divide_into_price_volume(df, paras):\n",
    "    '''\n",
    "    df.columns = [..., o_-10_d,h_-10_d,l_-10_d,c_-10_d,v_-10_d,...]\n",
    "    return [...,o_-10_d,h_-10_d,l_-10_d,c_-10_d,...], [...,v_-10_d,...]\n",
    "    '''\n",
    "    volume_cols = [col for col in df.columns if 'v_' in col]\n",
    "    return np.array(df.drop(volume_cols, 1)), np.array(df[volume_cols])"
   ]
  },
  {
   "cell_type": "code",
   "execution_count": 6,
   "metadata": {
    "collapsed": true
   },
   "outputs": [],
   "source": [
    "def preprocessing_data(df, paras, featureDropForTraining, withLabel = True):\n",
    "    '''\n",
    "    df: pd.DataFrame\n",
    "    X: np.array\n",
    "    y: np.array\n",
    "    convert df into X,y\n",
    "    '''\n",
    "    y = np.array(df['label'])\n",
    "    X_price, X_volume = divide_into_price_volume(df.drop(featureDropForTraining, 1), paras)\n",
    "    \n",
    "    X_price, scaler_price = preprocessing_data_by_row(X_price, paras)\n",
    "    X_volume, scaler_volume = preprocessing_data_by_row(X_volume, paras)\n",
    "    \n",
    "    # combine price and volume - rearrange\n",
    "    # [...,o_-10_d,h_-10_d,l_-10_d,c_-10_d,...], [...,v_-10_d,...] -> [..., o_-10_d,h_-10_d,l_-10_d,c_-10_d,v_-10_d,...]\n",
    "    X_combined = X_price\n",
    "    if len(X_volume[0]) != 0:\n",
    "        for i in range(len(X_volume[0])-1, -1, -1):\n",
    "            X_combined = np.insert(X_combined, (i+1)*(paras.n_features-1), X_volume[:,i], axis = 1)\n",
    "\n",
    "    if withLabel == True:\n",
    "        y_normalized = scaler_price.transform(y.reshape(1,-1))    \n",
    "        y_normalized_T = y_normalized.reshape(-1,1)\n",
    "    else:\n",
    "        y_normalized_T = np.repeat(float('nan'), len(y))\n",
    "    scaler_combined = {'price': scaler_price, 'volume': scaler_volume}\n",
    "    \n",
    "    if paras.debug_preproc_data == True:\n",
    "        print ('df[-1:]:',df[-1:])\n",
    "        \n",
    "        if scaler_price != None:\n",
    "            print ('scaler_price len:', np.shape(scaler_price.mean_))\n",
    "            print ('scaler_price mean:',scaler_price.mean_)\n",
    "            print ('scaler_price var:',scaler_price.var_)\n",
    "            print ('normalized price:',X_price[-1:])\n",
    "            print ('inversed price:',scaler_price.inverse_transform(X_price.transpose())[:,-1])\n",
    "\n",
    "        if scaler_volume != None:\n",
    "            print ('scaler_volume len:', np.shape(scaler_volume.mean_))\n",
    "            print ('scaler_volume mean:',scaler_volume.mean_)\n",
    "            print ('scaler_volume var:',scaler_volume.var_)\n",
    "            print ('normalized volume:',X_volume[-1:])\n",
    "            print ('inversed volume:',scaler_volume.inverse_transform(X_volume.transpose())[:,-1])\n",
    "\n",
    "        print ('X_price shape',X_price.shape)\n",
    "        print ('X_volume shape',X_volume.shape)\n",
    "        print ('X_combined shape',X_combined.shape)\n",
    "        print ('X_combined',X_combined[-1:])\n",
    "        \n",
    "        print ('y[-1:]:', y[-1:])\n",
    "        print ('y[-1] normalized:', y_normalized[-1:])\n",
    "        print ('y[-1] inversed:', scaler_price.inverse_transform(y_normalized)[:,-1])\n",
    "    \n",
    "    return X_combined, y_normalized_T, scaler_combined"
   ]
  },
  {
   "cell_type": "code",
   "execution_count": 7,
   "metadata": {
    "collapsed": true
   },
   "outputs": [],
   "source": [
    "def reshape_input(X, y, paras):\n",
    "    '''\n",
    "    X.shape = [n_sample, window_len*n_features]\n",
    "    X_reshaped = [n_sample, window_len, n_features]\n",
    "    '''\n",
    "    n_sample = X.shape[0]\n",
    "    n_channel = paras.n_features\n",
    "    n_features_per_channel = X.shape[1]/n_channel\n",
    "    X_reshaped = np.reshape(X, (n_sample, n_features_per_channel, n_channel))\n",
    "    y_reshaped = np.reshape(y, (n_sample,-1))\n",
    "    return X_reshaped, y_reshaped"
   ]
  },
  {
   "cell_type": "code",
   "execution_count": 8,
   "metadata": {
    "collapsed": false
   },
   "outputs": [
    {
     "name": "stderr",
     "output_type": "stream",
     "text": [
      "Using TensorFlow backend.\n"
     ]
    }
   ],
   "source": [
    "from keras.layers.core import Dense, Activation, Dropout\n",
    "from keras.layers.recurrent import LSTM\n",
    "from keras.models import Sequential\n",
    "\n",
    "def build_LSTM_model(paras):\n",
    "    model_lstm = Sequential()\n",
    "    first = True\n",
    "    for idx in range(len(paras.model['hidden_layers'])):\n",
    "        if idx == (len(paras.model['hidden_layers']) - 1):\n",
    "            model_lstm.add(LSTM(paras.model['hidden_layers'][idx], return_sequences = False))\n",
    "            model_lstm.add(Activation(paras.model['activation'][idx]))\n",
    "            model_lstm.add(Dropout(paras.model['dropout'][idx]))\n",
    "        elif first == True:\n",
    "            model_lstm.add(LSTM(input_dim = paras.n_features,\n",
    "                                output_dim = paras.model['hidden_layers'][idx],\n",
    "                                return_sequences = True))\n",
    "            model_lstm.add(Activation(paras.model['activation'][idx]))\n",
    "            model_lstm.add(Dropout(paras.model['dropout'][idx]))\n",
    "            first = False\n",
    "        else:\n",
    "            model_lstm.add(LSTM(paras.model['hidden_layers'][idx], return_sequences = True))\n",
    "            model_lstm.add(Activation(paras.model['activation'][idx]))\n",
    "            model_lstm.add(Dropout(paras.model['dropout'][idx]))\n",
    "   \n",
    "    # output layer\n",
    "    model_lstm.add(Dense(output_dim = paras.model['out_layer']))\n",
    "    model_lstm.add(Activation(paras.model['out_activation']))\n",
    "    model_lstm.compile(loss = paras.model['loss'], optimizer = paras.model['optimizer'])\n",
    "    print ('build LSTM model...')\n",
    "    return model_lstm"
   ]
  },
  {
   "cell_type": "code",
   "execution_count": 9,
   "metadata": {
    "collapsed": false
   },
   "outputs": [],
   "source": [
    "def LSTM_model_predict(model, X, y, scaler = None):\n",
    "    predictions = model.predict(X)\n",
    "    mse_scaled = np.mean((y - predictions) ** 2)\n",
    "    print ('scaled data mse: ', mse_scaled)\n",
    "    \n",
    "    if scaler != None:\n",
    "        arr = np.array(scaler.inverse_transform(y.reshape(y.shape[0],)))\n",
    "        arr2 = np.array(scaler.inverse_transform(predictions.reshape(predictions.shape[0],)))\n",
    "        return mse_scaled, arr, arr2\n",
    "    return mse_scaled, None, None"
   ]
  },
  {
   "cell_type": "code",
   "execution_count": 10,
   "metadata": {
    "collapsed": true
   },
   "outputs": [],
   "source": [
    "def save_training_model(model, paras, name):\n",
    "    # https://keras.io/getting-started/faq/#how-can-i-save-a-keras-model\n",
    "    model.save(paras.save_folder + name + '.h5')  # creates a HDF5 file 'my_model.h5'"
   ]
  },
  {
   "cell_type": "code",
   "execution_count": 11,
   "metadata": {
    "collapsed": false
   },
   "outputs": [],
   "source": [
    "from datetime import timedelta\n",
    "def append_date_serires(df, paras):\n",
    "    append_date = []\n",
    "    append_last_date = df.index[-1]\n",
    "    i = paras.pred_len\n",
    "    while i >= 1:\n",
    "        append_last_date = append_last_date + timedelta(days=1)\n",
    "        if append_last_date.isoweekday() > 0 and append_last_date.isoweekday() < 6:\n",
    "            append_date.append(append_last_date)\n",
    "            i -= 1\n",
    "    append_df = pd.DataFrame(index = list(append_date))\n",
    "    df = pd.concat((df, append_df), axis=0)\n",
    "    return df"
   ]
  },
  {
   "cell_type": "code",
   "execution_count": 16,
   "metadata": {
    "collapsed": false
   },
   "outputs": [],
   "source": [
    "def save_data_frame_mse(df, paras, mses):\n",
    "    if 1:\n",
    "        df['actual'] = df['actual']\n",
    "        df['pred'] = df['pred']\n",
    "        df = df.rename(columns = {\"actual\": \"a_+\"+str(paras.pred_len)+'_d',\n",
    "                                  \"pred\": \"p_+\"+str(paras.pred_len)+'_d'})\n",
    "        \n",
    "        df['a_+'+str(paras.pred_len)+'_d_diff'] = df[\"a_+\"+str(paras.pred_len)+'_d'] - df['close']\n",
    "        df['p_+'+str(paras.pred_len)+'_d_diff'] = df[\"p_+\"+str(paras.pred_len)+'_d'] - df['close']\n",
    "        new_list = [\"a_+\"+str(paras.pred_len)+'_d', \"p_+\"+str(paras.pred_len)+'_d', \n",
    "                    'a_+'+str(paras.pred_len)+'_d_diff', 'p_+'+str(paras.pred_len)+'_d_diff']\n",
    "    else :\n",
    "        df = append_date_serires(df, paras)\n",
    "        # shift +\n",
    "        df['actual'] = df['actual'].shift(paras.pred_len)\n",
    "        df['pred'] = df['pred'].shift(paras.pred_len)\n",
    "        df = df.rename(columns = {\"actual\": \"a_-\"+str(paras.pred_len)+'_d',\n",
    "                                  \"pred\": \"p_-\"+str(paras.pred_len)+'_d'})\n",
    "        new_list = [\"a_-\"+str(paras.pred_len)+'_d', \"p_-\"+str(paras.pred_len)+'_d']\n",
    "    \n",
    "    default_list = ['open', 'high', 'low', 'close', 'volume']\n",
    "    original_other_list = set(df.columns) - set(default_list) - set(new_list)\n",
    "    original_other_list = list(original_other_list)\n",
    "    df = df[default_list + original_other_list + new_list]\n",
    "    model_acc = mses[1] / mses[0]\n",
    "    df.to_csv(paras.save_folder + paras.ticker + ('_%.2f' % model_acc)+ \"_data_frame.csv\")\n",
    "    with open(paras.save_folder + 'parameters.txt', \"w\") as text_file:\n",
    "        text_file.write(paras.__str__())\n",
    "        text_file.write(str(mses[0]) + '\\n')\n",
    "        text_file.write(str(mses[1]) + '\\n')\n",
    "    return df"
   ]
  },
  {
   "cell_type": "code",
   "execution_count": 13,
   "metadata": {
    "collapsed": false
   },
   "outputs": [],
   "source": [
    "# plot\n",
    "# http://matplotlib.org/examples/pylab_examples/subplots_demo.html\n",
    "\n",
    "import matplotlib.pyplot as plt\n",
    "import csv\n",
    "    \n",
    "def plot_training_curve(history, paras, save = True):\n",
    "    # LSTM model plot\n",
    "    # from keras.utils.visualize_util import plot\n",
    "    # from IPython.display import SVG\n",
    "    # from keras.utils.visualize_util import model_to_dot\n",
    "    # plot(model_lstm, to_file='model.png')\n",
    "    # SVG(model_to_dot(model_lstm).create(prog='dot', format='svg'))\n",
    "    \n",
    "    %matplotlib inline\n",
    "    # Control the default size of figures in this Jupyter notebook\n",
    "    %pylab inline\n",
    "    pylab.rcParams['figure.figsize'] = (15, 9)   # Change the size of plots\n",
    "\n",
    "    # LSTM training \n",
    "    f, ax = plt.subplots()\n",
    "    ax.plot(history.history['loss'])\n",
    "    ax.plot(history.history['val_loss'])\n",
    "    ax.set_title('loss function')\n",
    "    ax.set_ylabel('mse')\n",
    "    ax.set_xlabel('epoch')\n",
    "    ax.legend(['loss', 'val_loss'], loc='upper right')\n",
    "    plt.show()\n",
    "    if save == True:\n",
    "        w = csv.writer(open(paras.save_folder + \"training_curve_model.txt\", \"w\"))\n",
    "        for key, val in history.history.items():\n",
    "            w.writerow([key, val])\n",
    "        for key, val in history.params.items():\n",
    "            w.writerow([key, val])   \n",
    "    "
   ]
  },
  {
   "cell_type": "code",
   "execution_count": 14,
   "metadata": {
    "collapsed": false,
    "scrolled": false
   },
   "outputs": [],
   "source": [
    "from sklearn import cross_validation\n",
    "from keras.callbacks import History \n",
    "\n",
    "def run_LSTM(paras):\n",
    "    ################################################################################\n",
    "    paras.save_folder = enviorment_check(paras.identify)\n",
    "    print ('save directory: ', paras.save_folder)\n",
    "    ################################################################################\n",
    "\n",
    "    featureDropForTraining = ['label']\n",
    "\n",
    "    # get data\n",
    "    df, df_known_lately, df_lately, df_all = GetStockData_PriceVolume(paras)\n",
    "\n",
    "    # preprocessing\n",
    "    X, y, scaler = preprocessing_data(df, paras, featureDropForTraining, withLabel = True)\n",
    "    X_known_lately, y_known_lately, scaler_known_lately = preprocessing_data(df_known_lately, paras, featureDropForTraining, withLabel = True)\n",
    "    X_lately, y_lately, scaler_lately = preprocessing_data(df_lately, paras, featureDropForTraining, withLabel = False)\n",
    "\n",
    "    # cross validation\n",
    "    X_train, X_test, y_train, y_test = cross_validation.train_test_split(X, y, test_size=0.2)\n",
    "    print ('train shape',X_train.shape)\n",
    "    print ('test shape',X_test.shape)\n",
    "\n",
    "    # reshape input data to LSTM model\n",
    "    X_train, y_train = reshape_input(X_train, y_train, paras)\n",
    "    X_test, y_test = reshape_input(X_test, y_test, paras)\n",
    "    X_known_lately, y_known_lately = reshape_input(X_known_lately, y_known_lately, paras)\n",
    "    X_lately, y_lately = reshape_input(X_lately, y_lately, paras)\n",
    "\n",
    "    # build LSTM model\n",
    "    history = History()\n",
    "    model_lstm = build_LSTM_model(paras)\n",
    "    model_lstm.fit(\n",
    "        X_train,\n",
    "        y_train,\n",
    "        batch_size = paras.batch_size,\n",
    "        nb_epoch = paras.epoch,\n",
    "        validation_split = paras.validation_split,\n",
    "        #validation_data = (X_known_lately, y_known_lately),\n",
    "        callbacks=[history],\n",
    "        verbose = 1\n",
    "    )\n",
    "    # save model\n",
    "    save_training_model(model_lstm, paras, 'lstm_model')\n",
    "\n",
    "    # validation test + known lately data \n",
    "    print (' ############## validation on test data ############## ')\n",
    "    mse_test, tmp, tmp2 = LSTM_model_predict(model_lstm, X_test, y_test)\n",
    "\n",
    "    print (' ############## validation on known lately data ############## ')\n",
    "    mse_known_lately, df_all.loc[df_known_lately.index, 'actual'], df_all.loc[df_known_lately.index, 'pred'] = LSTM_model_predict(model_lstm, X_known_lately, y_known_lately, \n",
    "                                                      scaler = scaler_known_lately['price'])\n",
    "    # predict lately data\n",
    "    print (' ############## validation on lately data ############## ')\n",
    "    mse_lately, df_all.loc[df_lately.index, 'actual'], df_all.loc[df_lately.index, 'pred'] = LSTM_model_predict(model_lstm, X_lately, y_lately, \n",
    "                                       scaler = scaler_lately['price'])\n",
    "\n",
    "    # rewrite data frame and save / update\n",
    "    df_all = save_data_frame_mse(df_all, paras, mses = [mse_test, mse_known_lately])\n",
    "\n",
    "    # plot training loss/ validation loss\n",
    "    plot_training_curve(history, paras, save = True)\n",
    "\n",
    "    print (df_all[-(paras.pred_len+paras.known_lately_len):])"
   ]
  },
  {
   "cell_type": "code",
   "execution_count": 18,
   "metadata": {
    "collapsed": false,
    "scrolled": false
   },
   "outputs": [
    {
     "name": "stdout",
     "output_type": "stream",
     "text": [
      "save directory:  ./history/LSTM_NDAQ_2017-03-03 16:59:19/\n",
      "train shape (1315, 605)\n",
      "test shape (329, 605)\n"
     ]
    },
    {
     "name": "stderr",
     "output_type": "stream",
     "text": [
      "/Users/christsai/anaconda3/lib/python3.5/site-packages/numpy/core/fromnumeric.py:225: VisibleDeprecationWarning: using a non-integer number instead of an integer will result in an error in the future\n",
      "  return reshape(newshape, order=order)\n"
     ]
    },
    {
     "name": "stdout",
     "output_type": "stream",
     "text": [
      "build LSTM model...\n",
      "Train on 1183 samples, validate on 132 samples\n",
      "Epoch 1/3\n",
      "1183/1183 [==============================] - 20s - loss: 2.1162 - val_loss: 1.1890\n",
      "Epoch 2/3\n",
      "1183/1183 [==============================] - 17s - loss: 1.2865 - val_loss: 0.9503\n",
      "Epoch 3/3\n",
      "1183/1183 [==============================] - 18s - loss: 1.0732 - val_loss: 0.7661\n",
      " ############## validation on test data ############## \n",
      "scaled data mse:  0.895163656828\n",
      " ############## validation on known lately data ############## \n",
      "scaled data mse:  0.158515589618\n",
      " ############## validation on lately data ############## \n",
      "scaled data mse:  nan\n",
      "Populating the interactive namespace from numpy and matplotlib\n"
     ]
    },
    {
     "data": {
      "image/png": "[encoded data removed]",
      "text/plain": [
       "<matplotlib.figure.Figure at 0x137df4438>"
      ]
     },
     "metadata": {},
     "output_type": "display_data"
    },
    {
     "name": "stdout",
     "output_type": "stream",
     "text": [
      "             open    high      low  close     volume  a_+20_d    p_+20_d  \\\n",
      "Date                                                                       \n",
      "2017-01-05  67.49  68.150  67.2400  67.64   620788.0  68.3100  69.670242   \n",
      "2017-01-06  67.62  68.810  67.5200  68.46   613449.0  68.3740  69.651901   \n",
      "2017-01-09  68.37  68.450  67.3300  67.77   639088.0  68.4535  69.647018   \n",
      "2017-01-10  67.62  67.870  67.1700  67.20   832992.0  68.5375  69.650665   \n",
      "2017-01-11  67.19  67.800  66.8900  67.72   482040.0  68.6065  69.654724   \n",
      "2017-01-12  67.44  67.550  66.1000  67.40   500342.0  68.7250  69.646492   \n",
      "2017-01-13  67.33  67.920  67.2400  67.71   431935.0  68.8745  69.646240   \n",
      "2017-01-17  67.36  67.680  66.8900  66.99   908438.0  69.0640  69.646500   \n",
      "2017-01-18  66.71  67.290  66.6200  67.25   775115.0  69.2640  69.635918   \n",
      "2017-01-19  67.06  67.340  66.4900  67.06   624994.0  69.4780  69.603218   \n",
      "2017-01-20  67.30  67.580  66.8400  67.36   602269.0  69.6855  69.561638   \n",
      "2017-01-23  67.06  67.680  66.6700  67.32   628833.0  69.8880  69.517082   \n",
      "2017-01-24  67.23  68.287  66.8500  67.95   645115.0  70.0525  69.478714   \n",
      "2017-01-25  68.09  68.450  67.7000  68.34   607790.0  70.2080  69.471390   \n",
      "2017-01-26  68.50  68.900  68.2800  68.83   622598.0  70.3390  69.512337   \n",
      "2017-01-27  68.92  68.930  68.1000  68.36   724554.0  70.4785  69.592102   \n",
      "2017-01-30  68.04  68.260  67.4300  68.18   760843.0  70.6250  69.688492   \n",
      "2017-01-31  68.36  70.610  67.2600  70.54  1481793.0  70.7070  69.823212   \n",
      "2017-02-01  70.47  71.890  70.2900  70.75  1327630.0  70.7320  70.023949   \n",
      "2017-02-02  70.67  71.210  70.0300  70.67   796353.0  70.7530  70.267746   \n",
      "2017-02-03  71.00  71.000  70.0400  70.34   963701.0      NaN  70.525513   \n",
      "2017-02-06  70.05  70.310  69.6000  69.74   860933.0      NaN  70.748856   \n",
      "2017-02-07  69.98  70.140  68.9300  69.36  1371235.0      NaN  70.903664   \n",
      "2017-02-08  69.30  69.380  68.6200  68.88   995968.0      NaN  70.978928   \n",
      "2017-02-09  69.32  69.470  68.8100  69.10   558273.0      NaN  71.022606   \n",
      "2017-02-10  69.11  69.995  69.0800  69.77   862428.0      NaN  71.046074   \n",
      "2017-02-13  69.79  70.860  69.4400  70.70   834584.0      NaN  71.090584   \n",
      "2017-02-14  70.70  71.040  70.5000  70.78   681214.0      NaN  71.150589   \n",
      "2017-02-15  71.03  71.630  70.5100  71.25   873098.0      NaN  71.215424   \n",
      "2017-02-16  71.33  71.590  70.7200  71.34   840776.0      NaN  71.288216   \n",
      "2017-02-17  71.13  71.650  70.8000  71.51  2710384.0      NaN  71.329956   \n",
      "2017-02-21  71.60  71.860  71.2650  71.37   894423.0      NaN  71.388420   \n",
      "2017-02-22  71.24  71.760  71.0600  71.24   814720.0      NaN  71.440346   \n",
      "2017-02-23  71.43  71.730  71.1700  71.45   546844.0      NaN  71.495132   \n",
      "2017-02-24  71.08  71.790  71.0487  71.45   870780.0      NaN  71.533836   \n",
      "2017-02-27  71.57  71.570  70.9200  71.15   767239.0      NaN  71.558723   \n",
      "2017-02-28  71.18  71.335  70.6900  71.11  1355994.0      NaN  71.561073   \n",
      "2017-03-01  72.00  72.520  71.8100  72.18  1293738.0      NaN  71.608253   \n",
      "2017-03-02  72.18  72.340  71.1500  71.25   888134.0      NaN  71.662704   \n",
      "2017-03-03  71.21  71.580  70.6800  71.09  1100687.0      NaN  71.689255   \n",
      "\n",
      "            a_+20_d_diff  p_+20_d_diff  \n",
      "Date                                    \n",
      "2017-01-05        0.6700      2.030242  \n",
      "2017-01-06       -0.0860      1.191901  \n",
      "2017-01-09        0.6835      1.877018  \n",
      "2017-01-10        1.3375      2.450665  \n",
      "2017-01-11        0.8865      1.934724  \n",
      "2017-01-12        1.3250      2.246492  \n",
      "2017-01-13        1.1645      1.936240  \n",
      "2017-01-17        2.0740      2.656500  \n",
      "2017-01-18        2.0140      2.385918  \n",
      "2017-01-19        2.4180      2.543218  \n",
      "2017-01-20        2.3255      2.201638  \n",
      "2017-01-23        2.5680      2.197082  \n",
      "2017-01-24        2.1025      1.528714  \n",
      "2017-01-25        1.8680      1.131390  \n",
      "2017-01-26        1.5090      0.682337  \n",
      "2017-01-27        2.1185      1.232102  \n",
      "2017-01-30        2.4450      1.508492  \n",
      "2017-01-31        0.1670     -0.716788  \n",
      "2017-02-01       -0.0180     -0.726051  \n",
      "2017-02-02        0.0830     -0.402254  \n",
      "2017-02-03           NaN      0.185513  \n",
      "2017-02-06           NaN      1.008856  \n",
      "2017-02-07           NaN      1.543664  \n",
      "2017-02-08           NaN      2.098928  \n",
      "2017-02-09           NaN      1.922606  \n",
      "2017-02-10           NaN      1.276074  \n",
      "2017-02-13           NaN      0.390584  \n",
      "2017-02-14           NaN      0.370589  \n",
      "2017-02-15           NaN     -0.034576  \n",
      "2017-02-16           NaN     -0.051784  \n",
      "2017-02-17           NaN     -0.180044  \n",
      "2017-02-21           NaN      0.018420  \n",
      "2017-02-22           NaN      0.200346  \n",
      "2017-02-23           NaN      0.045132  \n",
      "2017-02-24           NaN      0.083836  \n",
      "2017-02-27           NaN      0.408723  \n",
      "2017-02-28           NaN      0.451073  \n",
      "2017-03-01           NaN     -0.571747  \n",
      "2017-03-02           NaN      0.412704  \n",
      "2017-03-03           NaN      0.599255  \n"
     ]
    }
   ],
   "source": [
    "import US_SP_Global_Parameters\n",
    "if __name__ == \"__main__\":\n",
    "    # #################### parameters setting ####################\n",
    "    paras = US_SP_Global_Parameters.SP_RNN_LSTM_Paras('LSTM', ticker = 'NDAQ')\n",
    "    paras.features = 'ohlcv'\n",
    "    paras.window_len = 120\n",
    "    paras.pred_len = 20\n",
    "    paras.known_lately_len = 20\n",
    "    paras.debug_load_data = False\n",
    "    paras.debug_preproc_data = False\n",
    "\n",
    "    # LSTM parameters\n",
    "    paras.batch_size = 128\n",
    "    paras.epoch = 100\n",
    "    paras.validation_split = 0.1\n",
    "    paras.model['hidden_layers'] = [120, 60, 30]\n",
    "    paras.model['dropout'] = [0.5, 0.5, 0.3]\n",
    "    paras.model['activation'] = ['relu', 'relu', 'relu']\n",
    "    paras.model['out_layer'] = 1\n",
    "    paras.model['out_activation'] = 'linear'\n",
    "    paras.model['loss'] = 'mse'\n",
    "    paras.model['optimizer'] = 'rmsprop'\n",
    "\n",
    "    run_LSTM(paras)"
   ]
  },
  {
   "cell_type": "code",
   "execution_count": null,
   "metadata": {
    "collapsed": false,
    "scrolled": true
   },
   "outputs": [],
   "source": []
  },
  {
   "cell_type": "code",
   "execution_count": null,
   "metadata": {
    "collapsed": false
   },
   "outputs": [],
   "source": []
  },
  {
   "cell_type": "code",
   "execution_count": null,
   "metadata": {
    "collapsed": false,
    "scrolled": false
   },
   "outputs": [],
   "source": []
  },
  {
   "cell_type": "code",
   "execution_count": null,
   "metadata": {
    "collapsed": false
   },
   "outputs": [],
   "source": []
  },
  {
   "cell_type": "code",
   "execution_count": null,
   "metadata": {
    "collapsed": true
   },
   "outputs": [],
   "source": []
  }
 ],
 "metadata": {
  "anaconda-cloud": {},
  "kernelspec": {
   "display_name": "Python [default]",
   "language": "python",
   "name": "python3"
  },
  "language_info": {
   "codemirror_mode": {
    "name": "ipython",
    "version": 3
   },
   "file_extension": ".py",
   "mimetype": "text/x-python",
   "name": "python",
   "nbconvert_exporter": "python",
   "pygments_lexer": "ipython3",
   "version": "3.5.2"
  }
 },
 "nbformat": 4,
 "nbformat_minor": 1
}
